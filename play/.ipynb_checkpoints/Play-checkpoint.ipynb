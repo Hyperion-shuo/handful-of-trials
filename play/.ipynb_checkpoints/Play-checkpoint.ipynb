{
 "cells": [
  {
   "cell_type": "code",
   "execution_count": 17,
   "metadata": {},
   "outputs": [
    {
     "name": "stderr",
     "output_type": "stream",
     "text": [
      "/data/ShenShuo/miniconda3/envs/pets2/lib/python3.6/site-packages/tensorflow/python/framework/dtypes.py:516: FutureWarning: Passing (type, 1) or '1type' as a synonym of type is deprecated; in a future version of numpy, it will be understood as (type, (1,)) / '(1,)type'.\n",
      "  _np_qint8 = np.dtype([(\"qint8\", np.int8, 1)])\n",
      "/data/ShenShuo/miniconda3/envs/pets2/lib/python3.6/site-packages/tensorflow/python/framework/dtypes.py:517: FutureWarning: Passing (type, 1) or '1type' as a synonym of type is deprecated; in a future version of numpy, it will be understood as (type, (1,)) / '(1,)type'.\n",
      "  _np_quint8 = np.dtype([(\"quint8\", np.uint8, 1)])\n",
      "/data/ShenShuo/miniconda3/envs/pets2/lib/python3.6/site-packages/tensorflow/python/framework/dtypes.py:518: FutureWarning: Passing (type, 1) or '1type' as a synonym of type is deprecated; in a future version of numpy, it will be understood as (type, (1,)) / '(1,)type'.\n",
      "  _np_qint16 = np.dtype([(\"qint16\", np.int16, 1)])\n",
      "/data/ShenShuo/miniconda3/envs/pets2/lib/python3.6/site-packages/tensorflow/python/framework/dtypes.py:519: FutureWarning: Passing (type, 1) or '1type' as a synonym of type is deprecated; in a future version of numpy, it will be understood as (type, (1,)) / '(1,)type'.\n",
      "  _np_quint16 = np.dtype([(\"quint16\", np.uint16, 1)])\n",
      "/data/ShenShuo/miniconda3/envs/pets2/lib/python3.6/site-packages/tensorflow/python/framework/dtypes.py:520: FutureWarning: Passing (type, 1) or '1type' as a synonym of type is deprecated; in a future version of numpy, it will be understood as (type, (1,)) / '(1,)type'.\n",
      "  _np_qint32 = np.dtype([(\"qint32\", np.int32, 1)])\n",
      "/data/ShenShuo/miniconda3/envs/pets2/lib/python3.6/site-packages/tensorflow/python/framework/dtypes.py:525: FutureWarning: Passing (type, 1) or '1type' as a synonym of type is deprecated; in a future version of numpy, it will be understood as (type, (1,)) / '(1,)type'.\n",
      "  np_resource = np.dtype([(\"resource\", np.ubyte, 1)])\n",
      "/data/ShenShuo/miniconda3/envs/pets2/lib/python3.6/site-packages/tensorboard/compat/tensorflow_stub/dtypes.py:541: FutureWarning: Passing (type, 1) or '1type' as a synonym of type is deprecated; in a future version of numpy, it will be understood as (type, (1,)) / '(1,)type'.\n",
      "  _np_qint8 = np.dtype([(\"qint8\", np.int8, 1)])\n",
      "/data/ShenShuo/miniconda3/envs/pets2/lib/python3.6/site-packages/tensorboard/compat/tensorflow_stub/dtypes.py:542: FutureWarning: Passing (type, 1) or '1type' as a synonym of type is deprecated; in a future version of numpy, it will be understood as (type, (1,)) / '(1,)type'.\n",
      "  _np_quint8 = np.dtype([(\"quint8\", np.uint8, 1)])\n",
      "/data/ShenShuo/miniconda3/envs/pets2/lib/python3.6/site-packages/tensorboard/compat/tensorflow_stub/dtypes.py:543: FutureWarning: Passing (type, 1) or '1type' as a synonym of type is deprecated; in a future version of numpy, it will be understood as (type, (1,)) / '(1,)type'.\n",
      "  _np_qint16 = np.dtype([(\"qint16\", np.int16, 1)])\n",
      "/data/ShenShuo/miniconda3/envs/pets2/lib/python3.6/site-packages/tensorboard/compat/tensorflow_stub/dtypes.py:544: FutureWarning: Passing (type, 1) or '1type' as a synonym of type is deprecated; in a future version of numpy, it will be understood as (type, (1,)) / '(1,)type'.\n",
      "  _np_quint16 = np.dtype([(\"quint16\", np.uint16, 1)])\n",
      "/data/ShenShuo/miniconda3/envs/pets2/lib/python3.6/site-packages/tensorboard/compat/tensorflow_stub/dtypes.py:545: FutureWarning: Passing (type, 1) or '1type' as a synonym of type is deprecated; in a future version of numpy, it will be understood as (type, (1,)) / '(1,)type'.\n",
      "  _np_qint32 = np.dtype([(\"qint32\", np.int32, 1)])\n",
      "/data/ShenShuo/miniconda3/envs/pets2/lib/python3.6/site-packages/tensorboard/compat/tensorflow_stub/dtypes.py:550: FutureWarning: Passing (type, 1) or '1type' as a synonym of type is deprecated; in a future version of numpy, it will be understood as (type, (1,)) / '(1,)type'.\n",
      "  np_resource = np.dtype([(\"resource\", np.ubyte, 1)])\n"
     ]
    }
   ],
   "source": [
    "import numpy as np\n",
    "import matplotlib.pyplot as plt\n",
    "import tensorflow as tf"
   ]
  },
  {
   "cell_type": "markdown",
   "metadata": {},
   "source": [
    "# shuffle rows"
   ]
  },
  {
   "cell_type": "code",
   "execution_count": 10,
   "metadata": {},
   "outputs": [
    {
     "name": "stdout",
     "output_type": "stream",
     "text": [
      "[[0.29099962 0.85232345 0.06168549]\n",
      " [0.83157792 0.75334306 0.04860298]\n",
      " [0.52683872 0.35206898 0.68470035]] \n",
      "\n",
      "[[0.06168549 0.85232345 0.29099962]\n",
      " [0.83157792 0.75334306 0.04860298]\n",
      " [0.35206898 0.52683872 0.68470035]]\n"
     ]
    }
   ],
   "source": [
    "def shuffle_rows(arr):\n",
    "    idxs = np.argsort(np.random.uniform(size=arr.shape), axis=-1)\n",
    "    return arr[np.arange(arr.shape[0])[:, None], idxs]\n",
    "\n",
    "a = np.random.uniform(size=(3,3))\n",
    "print(a, \"\\n\")\n",
    "a = shuffle_rows(a)\n",
    "print(a)"
   ]
  },
  {
   "cell_type": "code",
   "execution_count": 11,
   "metadata": {},
   "outputs": [
    {
     "data": {
      "text/plain": [
       "<function RandomState.randint>"
      ]
     },
     "execution_count": 11,
     "metadata": {},
     "output_type": "execute_result"
    }
   ],
   "source": [
    "np.random.randint()\n",
    "np.random.permutation()"
   ]
  },
  {
   "cell_type": "markdown",
   "metadata": {},
   "source": [
    "# MPC ._compile_cost"
   ]
  },
  {
   "cell_type": "code",
   "execution_count": 13,
   "metadata": {},
   "outputs": [
    {
     "name": "stdout",
     "output_type": "stream",
     "text": [
      "(2, 2, 3) (2, 2, 1, 3) (2, 2, 5, 3)\n"
     ]
    }
   ],
   "source": [
    "# action seq\n",
    "a = np.arange(12).reshape(2,2,3)\n",
    "b = a[:, :, None]\n",
    "c = np.tile(b, [1, 1, 5, 1])\n",
    "print(a.shape, b.shape, c.shape)"
   ]
  },
  {
   "cell_type": "code",
   "execution_count": 16,
   "metadata": {},
   "outputs": [
    {
     "name": "stdout",
     "output_type": "stream",
     "text": [
      "(1, 2, 3) (1, 4, 3)\n",
      "[[[0 1 2]\n",
      "  [3 4 5]]] \n",
      "\n",
      "[[[0 1 2]\n",
      "  [3 4 5]\n",
      "  [0 1 2]\n",
      "  [3 4 5]]] \n",
      "\n"
     ]
    }
   ],
   "source": [
    "# obs seq\n",
    "a = np.arange(6).reshape(2,3)[None]\n",
    "b = np.tile(a, [2, 1])\n",
    "print(a.shape, b.shape)\n",
    "print(a, \"\\n\")\n",
    "print(b, \"\\n\")"
   ]
  },
  {
   "cell_type": "code",
   "execution_count": 49,
   "metadata": {},
   "outputs": [
    {
     "name": "stdout",
     "output_type": "stream",
     "text": [
      "[[0.5011456  0.469069   0.65108836 0.7942804  0.63712597]\n",
      " [0.12045324 0.8725289  0.07112205 0.46775746 0.08108687]\n",
      " [0.19666004 0.62673044 0.27169728 0.67587435 0.30628085]\n",
      " [0.9436444  0.02008867 0.5415305  0.47005045 0.32039237]\n",
      " [0.352862   0.8479961  0.9608965  0.5145776  0.89651155]\n",
      " [0.14048982 0.20643735 0.07787848 0.5920297  0.2050004 ]\n",
      " [0.93331134 0.04784369 0.9818977  0.32428372 0.77778804]\n",
      " [0.6566324  0.48426878 0.9630481  0.63366926 0.36504233]] \n",
      " [[3 2 4 0 1]\n",
      " [1 3 0 4 2]\n",
      " [3 1 4 2 0]\n",
      " [0 2 3 4 1]\n",
      " [2 4 1 3 0]\n",
      " [3 1 4 0 2]\n",
      " [2 0 4 3 1]\n",
      " [2 0 3 1 4]]\n"
     ]
    }
   ],
   "source": [
    "\n",
    "array = tf.random_uniform([8, 5])\n",
    "sort_idxs = tf.nn.top_k(\n",
    "    array,\n",
    "    k=5\n",
    ").indices\n",
    "\n",
    "\n",
    "with tf.Session() as sess:\n",
    "    sess.run(tf.global_variables_initializer())\n",
    "    array, idx = sess.run([array, sort_idxs])\n",
    "print(array, \"\\n\",idx)"
   ]
  },
  {
   "cell_type": "code",
   "execution_count": 50,
   "metadata": {},
   "outputs": [
    {
     "name": "stdout",
     "output_type": "stream",
     "text": [
      "(8, 5, 1)\n"
     ]
    }
   ],
   "source": [
    "tmp = tf.tile(tf.range(8)[:, None], [1, 5])[:, :, None]\n",
    "with tf.Session() as sess:\n",
    "    result = sess.run(tmp)\n",
    "print(result.shape)"
   ]
  }
 ],
 "metadata": {
  "kernelspec": {
   "display_name": "Python 3",
   "language": "python",
   "name": "python3"
  },
  "language_info": {
   "codemirror_mode": {
    "name": "ipython",
    "version": 3
   },
   "file_extension": ".py",
   "mimetype": "text/x-python",
   "name": "python",
   "nbconvert_exporter": "python",
   "pygments_lexer": "ipython3",
   "version": "3.6.12"
  }
 },
 "nbformat": 4,
 "nbformat_minor": 4
}
